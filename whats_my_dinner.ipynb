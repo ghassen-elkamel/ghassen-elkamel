{
  "nbformat": 4,
  "nbformat_minor": 0,
  "metadata": {
    "colab": {
      "name": "whats-my_dinner.ipynb",
      "provenance": [],
      "collapsed_sections": [],
      "authorship_tag": "ABX9TyOD433p4XB8rHeJGfzVcFkO",
      "include_colab_link": true
    },
    "kernelspec": {
      "name": "python3",
      "display_name": "Python 3"
    },
    "language_info": {
      "name": "python"
    },
    "accelerator": "GPU"
  },
  "cells": [
    {
      "cell_type": "markdown",
      "metadata": {
        "id": "view-in-github",
        "colab_type": "text"
      },
      "source": [
        "<a href=\"https://colab.research.google.com/github/ghassen-elkamel/ghassen-elkamel/blob/main/whats_my_dinner.ipynb\" target=\"_parent\"><img src=\"https://colab.research.google.com/assets/colab-badge.svg\" alt=\"Open In Colab\"/></a>"
      ]
    },
    {
      "cell_type": "markdown",
      "source": [
        "### connecting to kaggle to import the dataset"
      ],
      "metadata": {
        "id": "RvB9OcBlk9ED"
      }
    },
    {
      "cell_type": "code",
      "execution_count": null,
      "metadata": {
        "colab": {
          "base_uri": "https://localhost:8080/"
        },
        "id": "CXPHZR6F9lPa",
        "outputId": "d354b555-3a14-4416-dee5-93c62b8b5601"
      },
      "outputs": [
        {
          "output_type": "stream",
          "name": "stdout",
          "text": [
            "Mounted at /content/gdrive\n"
          ]
        }
      ],
      "source": [
        "from google.colab import drive\n",
        "drive.mount(\"/content/gdrive\", force_remount=True)"
      ]
    },
    {
      "cell_type": "code",
      "source": [
        "!pip install kaggle"
      ],
      "metadata": {
        "colab": {
          "base_uri": "https://localhost:8080/"
        },
        "id": "Q39UQzfu9vst",
        "outputId": "54ed81ca-b652-4af6-c29b-13bde86e9bd8"
      },
      "execution_count": null,
      "outputs": [
        {
          "output_type": "stream",
          "name": "stdout",
          "text": [
            "Requirement already satisfied: kaggle in /usr/local/lib/python3.7/dist-packages (1.5.12)\n",
            "Requirement already satisfied: python-dateutil in /usr/local/lib/python3.7/dist-packages (from kaggle) (2.8.2)\n",
            "Requirement already satisfied: urllib3 in /usr/local/lib/python3.7/dist-packages (from kaggle) (1.24.3)\n",
            "Requirement already satisfied: requests in /usr/local/lib/python3.7/dist-packages (from kaggle) (2.23.0)\n",
            "Requirement already satisfied: six>=1.10 in /usr/local/lib/python3.7/dist-packages (from kaggle) (1.15.0)\n",
            "Requirement already satisfied: tqdm in /usr/local/lib/python3.7/dist-packages (from kaggle) (4.64.0)\n",
            "Requirement already satisfied: certifi in /usr/local/lib/python3.7/dist-packages (from kaggle) (2021.10.8)\n",
            "Requirement already satisfied: python-slugify in /usr/local/lib/python3.7/dist-packages (from kaggle) (6.1.1)\n",
            "Requirement already satisfied: text-unidecode>=1.3 in /usr/local/lib/python3.7/dist-packages (from python-slugify->kaggle) (1.3)\n",
            "Requirement already satisfied: chardet<4,>=3.0.2 in /usr/local/lib/python3.7/dist-packages (from requests->kaggle) (3.0.4)\n",
            "Requirement already satisfied: idna<3,>=2.5 in /usr/local/lib/python3.7/dist-packages (from requests->kaggle) (2.10)\n"
          ]
        }
      ]
    },
    {
      "cell_type": "code",
      "source": [
        "%cd /content/gdrive/MyDrive/AI/"
      ],
      "metadata": {
        "colab": {
          "base_uri": "https://localhost:8080/"
        },
        "id": "ah5Luu6k9z14",
        "outputId": "93a6c891-f148-4a29-be8b-fe88d9bf6886"
      },
      "execution_count": null,
      "outputs": [
        {
          "output_type": "stream",
          "name": "stdout",
          "text": [
            "/content/gdrive/MyDrive/AI\n"
          ]
        }
      ]
    },
    {
      "cell_type": "code",
      "source": [
        "import os\n",
        "os.environ['KAGGLE_CONFIG_DIR'] = \"/content/gdrive/MyDrive/AI/\""
      ],
      "metadata": {
        "id": "DVSGjX6V92t3"
      },
      "execution_count": null,
      "outputs": []
    },
    {
      "cell_type": "markdown",
      "source": [
        "## downloading the dataset"
      ],
      "metadata": {
        "id": "ZF3TlP6UlCrJ"
      }
    },
    {
      "cell_type": "code",
      "source": [
        "!kaggle datasets download -d paultimothymooney/recipenlg"
      ],
      "metadata": {
        "id": "jH1yhGeL96fe",
        "colab": {
          "base_uri": "https://localhost:8080/"
        },
        "outputId": "cbf5fc8b-1aed-4d5a-af9e-80c2b8b21774"
      },
      "execution_count": null,
      "outputs": [
        {
          "output_type": "stream",
          "name": "stdout",
          "text": [
            "recipenlg.zip: Skipping, found more recently modified local copy (use --force to force download)\n"
          ]
        }
      ]
    },
    {
      "cell_type": "code",
      "source": [
        "!unzip recipenlg.zip"
      ],
      "metadata": {
        "id": "SR6Ssxk3997N",
        "colab": {
          "base_uri": "https://localhost:8080/"
        },
        "outputId": "e78f0d81-11a3-419c-e576-50d63c65eb35"
      },
      "execution_count": null,
      "outputs": [
        {
          "output_type": "stream",
          "name": "stdout",
          "text": [
            "Archive:  recipenlg.zip\n",
            "replace RecipeNLG_code/README.md? [y]es, [n]o, [A]ll, [N]one, [r]ename: N\n"
          ]
        }
      ]
    },
    {
      "cell_type": "markdown",
      "source": [
        "## reading the dataset"
      ],
      "metadata": {
        "id": "LK-fJ2v5iOov"
      }
    },
    {
      "cell_type": "code",
      "source": [
        "import pandas as pd \n",
        "import numpy as np\n",
        "import re\n",
        "import nltk\n",
        "dataset= pd.read_csv('RecipeNLG_dataset.csv',on_bad_lines='skip')\n",
        "\n",
        "dataset[['title','directions','NER']].head(100)"
      ],
      "metadata": {
        "id": "1iAsWJ-H-EYr",
        "colab": {
          "base_uri": "https://localhost:8080/",
          "height": 423
        },
        "outputId": "de2e3d5b-824c-40d6-c1cf-268f1236cd75"
      },
      "execution_count": null,
      "outputs": [
        {
          "output_type": "execute_result",
          "data": {
            "text/plain": [
              "                          title  \\\n",
              "0           No-Bake Nut Cookies   \n",
              "1         Jewell Ball'S Chicken   \n",
              "2                   Creamy Corn   \n",
              "3                 Chicken Funny   \n",
              "4          Reeses Cups(Candy)     \n",
              "..                          ...   \n",
              "95                  Baked Beans   \n",
              "96         Sweet-N-Sour Chicken   \n",
              "97                     Ambrosia   \n",
              "98  Crazy Peanut Butter Cookies   \n",
              "99                 Brickle Bars   \n",
              "\n",
              "                                           directions  \\\n",
              "0   [\"In a heavy 2-quart saucepan, mix brown sugar...   \n",
              "1   [\"Place chipped beef on bottom of baking dish....   \n",
              "2   [\"In a slow cooker, combine all ingredients. C...   \n",
              "3   [\"Boil and debone chicken.\", \"Put bite size pi...   \n",
              "4   [\"Combine first four ingredients and press in ...   \n",
              "..                                                ...   \n",
              "95  [\"Cook onions and bell pepper in oil until oni...   \n",
              "96  [\"Saute onion in 2 tablespoons shortening.\", \"...   \n",
              "97  [\"Combine all ingredients. Chill overnight.\", ...   \n",
              "98  [\"Mix together and roll into balls; flatten wi...   \n",
              "99  [\"Mix together with a fork:\", \"cake mix, 1 egg...   \n",
              "\n",
              "                                                  NER  \n",
              "0   [\"brown sugar\", \"milk\", \"vanilla\", \"nuts\", \"bu...  \n",
              "1   [\"beef\", \"chicken breasts\", \"cream of mushroom...  \n",
              "2   [\"frozen corn\", \"cream cheese\", \"butter\", \"gar...  \n",
              "3   [\"chicken\", \"chicken gravy\", \"cream of mushroo...  \n",
              "4   [\"peanut butter\", \"graham cracker crumbs\", \"bu...  \n",
              "..                                                ...  \n",
              "95  [\"pork\", \"bell pepper\", \"onions\", \"catsup\", \"b...  \n",
              "96  [\"chicken\", \"shortening\", \"onion\", \"carrot chu...  \n",
              "97  [\"oranges\", \"moist coconut\", \"pecans\", \"cherri...  \n",
              "98                  [\"peanut butter\", \"sugar\", \"egg\"]  \n",
              "99  [\"yellow cake mix\", \"eggs\", \"margarine\", \"milk...  \n",
              "\n",
              "[100 rows x 3 columns]"
            ],
            "text/html": [
              "\n",
              "  <div id=\"df-6ea69514-4bd5-48b5-9840-e0ca7b02c886\">\n",
              "    <div class=\"colab-df-container\">\n",
              "      <div>\n",
              "<style scoped>\n",
              "    .dataframe tbody tr th:only-of-type {\n",
              "        vertical-align: middle;\n",
              "    }\n",
              "\n",
              "    .dataframe tbody tr th {\n",
              "        vertical-align: top;\n",
              "    }\n",
              "\n",
              "    .dataframe thead th {\n",
              "        text-align: right;\n",
              "    }\n",
              "</style>\n",
              "<table border=\"1\" class=\"dataframe\">\n",
              "  <thead>\n",
              "    <tr style=\"text-align: right;\">\n",
              "      <th></th>\n",
              "      <th>title</th>\n",
              "      <th>directions</th>\n",
              "      <th>NER</th>\n",
              "    </tr>\n",
              "  </thead>\n",
              "  <tbody>\n",
              "    <tr>\n",
              "      <th>0</th>\n",
              "      <td>No-Bake Nut Cookies</td>\n",
              "      <td>[\"In a heavy 2-quart saucepan, mix brown sugar...</td>\n",
              "      <td>[\"brown sugar\", \"milk\", \"vanilla\", \"nuts\", \"bu...</td>\n",
              "    </tr>\n",
              "    <tr>\n",
              "      <th>1</th>\n",
              "      <td>Jewell Ball'S Chicken</td>\n",
              "      <td>[\"Place chipped beef on bottom of baking dish....</td>\n",
              "      <td>[\"beef\", \"chicken breasts\", \"cream of mushroom...</td>\n",
              "    </tr>\n",
              "    <tr>\n",
              "      <th>2</th>\n",
              "      <td>Creamy Corn</td>\n",
              "      <td>[\"In a slow cooker, combine all ingredients. C...</td>\n",
              "      <td>[\"frozen corn\", \"cream cheese\", \"butter\", \"gar...</td>\n",
              "    </tr>\n",
              "    <tr>\n",
              "      <th>3</th>\n",
              "      <td>Chicken Funny</td>\n",
              "      <td>[\"Boil and debone chicken.\", \"Put bite size pi...</td>\n",
              "      <td>[\"chicken\", \"chicken gravy\", \"cream of mushroo...</td>\n",
              "    </tr>\n",
              "    <tr>\n",
              "      <th>4</th>\n",
              "      <td>Reeses Cups(Candy)</td>\n",
              "      <td>[\"Combine first four ingredients and press in ...</td>\n",
              "      <td>[\"peanut butter\", \"graham cracker crumbs\", \"bu...</td>\n",
              "    </tr>\n",
              "    <tr>\n",
              "      <th>...</th>\n",
              "      <td>...</td>\n",
              "      <td>...</td>\n",
              "      <td>...</td>\n",
              "    </tr>\n",
              "    <tr>\n",
              "      <th>95</th>\n",
              "      <td>Baked Beans</td>\n",
              "      <td>[\"Cook onions and bell pepper in oil until oni...</td>\n",
              "      <td>[\"pork\", \"bell pepper\", \"onions\", \"catsup\", \"b...</td>\n",
              "    </tr>\n",
              "    <tr>\n",
              "      <th>96</th>\n",
              "      <td>Sweet-N-Sour Chicken</td>\n",
              "      <td>[\"Saute onion in 2 tablespoons shortening.\", \"...</td>\n",
              "      <td>[\"chicken\", \"shortening\", \"onion\", \"carrot chu...</td>\n",
              "    </tr>\n",
              "    <tr>\n",
              "      <th>97</th>\n",
              "      <td>Ambrosia</td>\n",
              "      <td>[\"Combine all ingredients. Chill overnight.\", ...</td>\n",
              "      <td>[\"oranges\", \"moist coconut\", \"pecans\", \"cherri...</td>\n",
              "    </tr>\n",
              "    <tr>\n",
              "      <th>98</th>\n",
              "      <td>Crazy Peanut Butter Cookies</td>\n",
              "      <td>[\"Mix together and roll into balls; flatten wi...</td>\n",
              "      <td>[\"peanut butter\", \"sugar\", \"egg\"]</td>\n",
              "    </tr>\n",
              "    <tr>\n",
              "      <th>99</th>\n",
              "      <td>Brickle Bars</td>\n",
              "      <td>[\"Mix together with a fork:\", \"cake mix, 1 egg...</td>\n",
              "      <td>[\"yellow cake mix\", \"eggs\", \"margarine\", \"milk...</td>\n",
              "    </tr>\n",
              "  </tbody>\n",
              "</table>\n",
              "<p>100 rows × 3 columns</p>\n",
              "</div>\n",
              "      <button class=\"colab-df-convert\" onclick=\"convertToInteractive('df-6ea69514-4bd5-48b5-9840-e0ca7b02c886')\"\n",
              "              title=\"Convert this dataframe to an interactive table.\"\n",
              "              style=\"display:none;\">\n",
              "        \n",
              "  <svg xmlns=\"http://www.w3.org/2000/svg\" height=\"24px\"viewBox=\"0 0 24 24\"\n",
              "       width=\"24px\">\n",
              "    <path d=\"M0 0h24v24H0V0z\" fill=\"none\"/>\n",
              "    <path d=\"M18.56 5.44l.94 2.06.94-2.06 2.06-.94-2.06-.94-.94-2.06-.94 2.06-2.06.94zm-11 1L8.5 8.5l.94-2.06 2.06-.94-2.06-.94L8.5 2.5l-.94 2.06-2.06.94zm10 10l.94 2.06.94-2.06 2.06-.94-2.06-.94-.94-2.06-.94 2.06-2.06.94z\"/><path d=\"M17.41 7.96l-1.37-1.37c-.4-.4-.92-.59-1.43-.59-.52 0-1.04.2-1.43.59L10.3 9.45l-7.72 7.72c-.78.78-.78 2.05 0 2.83L4 21.41c.39.39.9.59 1.41.59.51 0 1.02-.2 1.41-.59l7.78-7.78 2.81-2.81c.8-.78.8-2.07 0-2.86zM5.41 20L4 18.59l7.72-7.72 1.47 1.35L5.41 20z\"/>\n",
              "  </svg>\n",
              "      </button>\n",
              "      \n",
              "  <style>\n",
              "    .colab-df-container {\n",
              "      display:flex;\n",
              "      flex-wrap:wrap;\n",
              "      gap: 12px;\n",
              "    }\n",
              "\n",
              "    .colab-df-convert {\n",
              "      background-color: #E8F0FE;\n",
              "      border: none;\n",
              "      border-radius: 50%;\n",
              "      cursor: pointer;\n",
              "      display: none;\n",
              "      fill: #1967D2;\n",
              "      height: 32px;\n",
              "      padding: 0 0 0 0;\n",
              "      width: 32px;\n",
              "    }\n",
              "\n",
              "    .colab-df-convert:hover {\n",
              "      background-color: #E2EBFA;\n",
              "      box-shadow: 0px 1px 2px rgba(60, 64, 67, 0.3), 0px 1px 3px 1px rgba(60, 64, 67, 0.15);\n",
              "      fill: #174EA6;\n",
              "    }\n",
              "\n",
              "    [theme=dark] .colab-df-convert {\n",
              "      background-color: #3B4455;\n",
              "      fill: #D2E3FC;\n",
              "    }\n",
              "\n",
              "    [theme=dark] .colab-df-convert:hover {\n",
              "      background-color: #434B5C;\n",
              "      box-shadow: 0px 1px 3px 1px rgba(0, 0, 0, 0.15);\n",
              "      filter: drop-shadow(0px 1px 2px rgba(0, 0, 0, 0.3));\n",
              "      fill: #FFFFFF;\n",
              "    }\n",
              "  </style>\n",
              "\n",
              "      <script>\n",
              "        const buttonEl =\n",
              "          document.querySelector('#df-6ea69514-4bd5-48b5-9840-e0ca7b02c886 button.colab-df-convert');\n",
              "        buttonEl.style.display =\n",
              "          google.colab.kernel.accessAllowed ? 'block' : 'none';\n",
              "\n",
              "        async function convertToInteractive(key) {\n",
              "          const element = document.querySelector('#df-6ea69514-4bd5-48b5-9840-e0ca7b02c886');\n",
              "          const dataTable =\n",
              "            await google.colab.kernel.invokeFunction('convertToInteractive',\n",
              "                                                     [key], {});\n",
              "          if (!dataTable) return;\n",
              "\n",
              "          const docLinkHtml = 'Like what you see? Visit the ' +\n",
              "            '<a target=\"_blank\" href=https://colab.research.google.com/notebooks/data_table.ipynb>data table notebook</a>'\n",
              "            + ' to learn more about interactive tables.';\n",
              "          element.innerHTML = '';\n",
              "          dataTable['output_type'] = 'display_data';\n",
              "          await google.colab.output.renderOutput(dataTable, element);\n",
              "          const docLink = document.createElement('div');\n",
              "          docLink.innerHTML = docLinkHtml;\n",
              "          element.appendChild(docLink);\n",
              "        }\n",
              "      </script>\n",
              "    </div>\n",
              "  </div>\n",
              "  "
            ]
          },
          "metadata": {},
          "execution_count": 7
        }
      ]
    },
    {
      "cell_type": "markdown",
      "source": [
        "## cleaning the data"
      ],
      "metadata": {
        "id": "8vTGDxvPiUph"
      }
    },
    {
      "cell_type": "code",
      "source": [
        "import string\n",
        "def remove_penctuation(txt):\n",
        "    txt_nopenct=\"\".join([c for c in txt if c not in string.punctuation])\n",
        "    return  txt_nopenct"
      ],
      "metadata": {
        "id": "jB75Y5D2-FHe"
      },
      "execution_count": null,
      "outputs": []
    },
    {
      "cell_type": "code",
      "source": [
        "dataset['NER_clean']=dataset['NER'].apply(lambda x: remove_penctuation(x))"
      ],
      "metadata": {
        "id": "Lyp78ojt-Ihj"
      },
      "execution_count": null,
      "outputs": []
    },
    {
      "cell_type": "markdown",
      "source": [
        "## vectorizing the data "
      ],
      "metadata": {
        "id": "CsZ9k0K6ivjI"
      }
    },
    {
      "cell_type": "code",
      "source": [
        "from sklearn.feature_extraction.text import TfidfVectorizer\n",
        "dataset_sample=dataset[0:]\n",
        "tfidf=TfidfVectorizer()\n",
        "x=tfidf.fit_transform(dataset_sample['NER_clean'])\n",
        "print(x.shape)\n",
        "print(x)"
      ],
      "metadata": {
        "id": "laPvrdtY-Lsn",
        "colab": {
          "base_uri": "https://localhost:8080/"
        },
        "outputId": "fd702cee-14f9-4bde-9448-ae5d39ad4ac3"
      },
      "execution_count": null,
      "outputs": [
        {
          "output_type": "stream",
          "name": "stdout",
          "text": [
            "(2231142, 36338)\n",
            "  (0, 2745)\t0.40329676959072325\n",
            "  (0, 27150)\t0.21667613215634746\n",
            "  (0, 29418)\t0.3053836569763752\n",
            "  (0, 29639)\t0.503155010636841\n",
            "  (0, 2779)\t0.5267590380302817\n",
            "  (0, 4396)\t0.12860043267311236\n",
            "  (0, 21973)\t0.23654738685213772\n",
            "  (0, 34324)\t0.16066690925943194\n",
            "  (0, 20246)\t0.14767344304972646\n",
            "  (0, 31375)\t0.11009412196581282\n",
            "  (0, 4017)\t0.18511938810613796\n",
            "  (1, 30261)\t0.3230924059814809\n",
            "  (1, 30242)\t0.33277396816490434\n",
            "  (1, 21116)\t0.3853110509632457\n",
            "  (1, 22085)\t0.34121451471578984\n",
            "  (1, 9085)\t0.43793949339446214\n",
            "  (1, 3783)\t0.3983031433127904\n",
            "  (1, 6616)\t0.26228840454279123\n",
            "  (1, 2329)\t0.3174101940024895\n",
            "  (2, 24363)\t0.26913049723521376\n",
            "  (2, 28023)\t0.19700571139886225\n",
            "  (2, 25621)\t0.3444027942077792\n",
            "  (2, 13271)\t0.29030632609718554\n",
            "  (2, 6375)\t0.2777020101989687\n",
            "  (2, 8636)\t0.4517352760220029\n",
            "  :\t:\n",
            "  (2231140, 9085)\t0.06474459143366004\n",
            "  (2231140, 27150)\t0.0969321097685876\n",
            "  (2231140, 4396)\t0.0575306155417396\n",
            "  (2231140, 31375)\t0.04925164303545012\n",
            "  (2231141, 24207)\t0.35390089763912025\n",
            "  (2231141, 12262)\t0.31497474174511436\n",
            "  (2231141, 34426)\t0.31632049818457825\n",
            "  (2231141, 12791)\t0.2076137145274921\n",
            "  (2231141, 27479)\t0.30613628368832546\n",
            "  (2231141, 14177)\t0.23950919887227284\n",
            "  (2231141, 28358)\t0.22035910689079694\n",
            "  (2231141, 35402)\t0.2335310482371442\n",
            "  (2231141, 3724)\t0.17674708977318285\n",
            "  (2231141, 26754)\t0.14469831794968477\n",
            "  (2231141, 23935)\t0.22570614082162813\n",
            "  (2231141, 32960)\t0.34585486478295985\n",
            "  (2231141, 28266)\t0.13784193605334652\n",
            "  (2231141, 11020)\t0.14251610592112726\n",
            "  (2231141, 14404)\t0.12887151694993343\n",
            "  (2231141, 9432)\t0.20343891757720062\n",
            "  (2231141, 24363)\t0.10793487545719072\n",
            "  (2231141, 28023)\t0.07900920610125949\n",
            "  (2231141, 13271)\t0.11642744866758438\n",
            "  (2231141, 6375)\t0.1113724835830881\n",
            "  (2231141, 20246)\t0.11962410905486143\n"
          ]
        }
      ]
    },
    {
      "cell_type": "code",
      "source": [
        "from ctypes import sizeof\n",
        "from numpy.ma.core import transpose\n",
        "df=pd.DataFrame(x.toarray(),columns=tfidf.get_feature_names_out())\n",
        "d=tfidf.get_feature_names_out()\n",
        "\n",
        "df.head()\n",
        "arr=df.to_numpy()\n",
        "\n",
        "#g=tfidf.get_feature_names_out()[13]\n",
        "print(arr)\n",
        "\n",
        "\n",
        "\n"
      ],
      "metadata": {
        "id": "0Zv6q2Ix-RbN",
        "colab": {
          "base_uri": "https://localhost:8080/"
        },
        "outputId": "1b8b7bae-8c50-4fe6-f6f6-ecb862e111f8"
      },
      "execution_count": null,
      "outputs": [
        {
          "output_type": "stream",
          "name": "stdout",
          "text": [
            "[[0. 0. 0. ... 0. 0. 0.]\n",
            " [0. 0. 0. ... 0. 0. 0.]\n",
            " [0. 0. 0. ... 0. 0. 0.]\n",
            " ...\n",
            " [0. 0. 0. ... 0. 0. 0.]\n",
            " [0. 0. 0. ... 0. 0. 0.]\n",
            " [0. 0. 0. ... 0. 0. 0.]]\n"
          ]
        }
      ]
    },
    {
      "cell_type": "markdown",
      "source": [
        "## testing "
      ],
      "metadata": {
        "id": "-qYHmAF4z1Kk"
      }
    },
    {
      "cell_type": "code",
      "source": [
        "def get_recipes(f,arr):\n",
        "\n",
        "  c=0\n",
        "  q=tfidf.get_feature_names_out()\n",
        "  print (q)\n",
        "  for i in range(1717):\n",
        "    if q[i]==f :\n",
        "     c=i\n",
        "\n",
        "  t = []\n",
        "  d={}\n",
        "  a=0\n",
        "  for j in range (100):\n",
        "   v=arr[j][c]\n",
        "   if v>0.0:\n",
        "      #print(j)\n",
        "    t.append (j)\n",
        "    d[v]=j\n",
        "    a=a+1\n",
        "  t.sort(reverse=True)\n",
        " # print(d)\n",
        "  for i in range(a):\n",
        "    key=t[i]\n",
        "    print(\"title:\")\n",
        "    print((dataset_sample['title'][key]))\n",
        "    print(\"\\n\")\n",
        "    print(\"gradients:\\n\")\n",
        "    print((dataset_sample['NER_clean'][[key]]))\n",
        "    print(\"steps:\\n\")\n",
        "    print((dataset_sample['directions'][[key]]))\n",
        "    \n",
        "\n",
        "\n"
      ],
      "metadata": {
        "id": "CDZZ4nIeaMev"
      },
      "execution_count": null,
      "outputs": []
    },
    {
      "cell_type": "code",
      "source": [
        "element=input(\"give your element please: \\n\")\n",
        "get_recipes(element,arr)"
      ],
      "metadata": {
        "id": "mJJimcovILi9"
      },
      "execution_count": null,
      "outputs": []
    },
    {
      "cell_type": "markdown",
      "source": [
        "## saving the necessairy files to run our model"
      ],
      "metadata": {
        "id": "jD7YQyYgkxJD"
      }
    },
    {
      "cell_type": "code",
      "source": [
        "from sklearn import model_selection\n",
        "from sklearn.linear_model import LogisticRegression\n",
        "import pickle\n",
        "from numpy import asarray\n",
        "from numpy import savetxt\n",
        "savetxt('data.csv', arr, delimiter=',')\n"
      ],
      "metadata": {
        "id": "EWTOG8tsZE-S"
      },
      "execution_count": null,
      "outputs": []
    },
    {
      "cell_type": "code",
      "source": [
        "import numpy as geek\n",
        "q=tfidf.get_feature_names_out()\n",
        "\n",
        "\n",
        "q1=geek.array_str(q)\n",
        "\n",
        "type(q1)\n",
        "text_file = open(\"gradients_data.txt\", \"w\")\n",
        " \n",
        "text_file.write(q1)\n",
        " \n",
        "\n",
        "text_file.close()\n"
      ],
      "metadata": {
        "id": "Y78w71nZpMXT"
      },
      "execution_count": null,
      "outputs": []
    },
    {
      "cell_type": "code",
      "source": [
        "import sys\n",
        "import numpy\n",
        "numpy.set_printoptions(threshold=sys.maxsize)\n",
        "q1=geek.array_str(q)\n",
        "\n",
        "text_file = open(\"gradients_data.txt\", \"w\")\n",
        "q1=remove_penctuation(q1) \n",
        "print(q1)\n",
        "\n",
        "text_file.write(q1)\n",
        " \n",
        "text_file.close()\n"
      ],
      "metadata": {
        "id": "Z2GlaTh_3WyZ"
      },
      "execution_count": null,
      "outputs": []
    },
    {
      "cell_type": "code",
      "source": [
        "xd = pd.DataFrame(dataset_sample, columns= ['title','directions','NER'])\n",
        "df.to_csv (r'data2.csv', index = False, header=True)"
      ],
      "metadata": {
        "id": "3aGZ4f28AfjL"
      },
      "execution_count": null,
      "outputs": []
    }
  ]
}